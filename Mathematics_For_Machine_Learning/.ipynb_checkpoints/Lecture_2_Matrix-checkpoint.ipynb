{
 "cells": [
  {
   "cell_type": "code",
   "execution_count": 12,
   "id": "c9361894-ceec-4b62-b6f3-2739d3641bc7",
   "metadata": {},
   "outputs": [],
   "source": [
    "import numpy as np\n"
   ]
  },
  {
   "cell_type": "code",
   "execution_count": 13,
   "id": "00a557f2-e0ea-4d5c-83a5-12e09cc25fff",
   "metadata": {},
   "outputs": [],
   "source": [
    "A=np.array([\n",
    "    [1,7,4],\n",
    "    [2,1,8],\n",
    "    [3,2,9]\n",
    "])\n",
    "\n",
    "B=np.array([\n",
    "    [2,4,1],\n",
    "    [7,9,0],\n",
    "    [1,0,3]\n",
    "])\n"
   ]
  },
  {
   "cell_type": "code",
   "execution_count": 14,
   "id": "5b408db9-2e5b-46bc-a3c7-6a1f4ecd63ec",
   "metadata": {},
   "outputs": [
    {
     "name": "stdout",
     "output_type": "stream",
     "text": [
      "[[ 3 11  5]\n",
      " [ 9 10  8]\n",
      " [ 4  2 12]]\n"
     ]
    }
   ],
   "source": [
    "C=np.add(A,B)\n",
    "print(C)\n"
   ]
  },
  {
   "cell_type": "code",
   "execution_count": 15,
   "id": "9aa73684-77da-4319-bd45-f2acd394e29e",
   "metadata": {},
   "outputs": [
    {
     "name": "stdout",
     "output_type": "stream",
     "text": [
      "[[-1  3  3]\n",
      " [-5 -8  8]\n",
      " [ 2  2  6]]\n"
     ]
    }
   ],
   "source": [
    "D=np.subtract(A,B)\n",
    "print(D)"
   ]
  },
  {
   "cell_type": "code",
   "execution_count": 16,
   "id": "a348c7c5-dc7d-459e-aff2-463d9507cafe",
   "metadata": {},
   "outputs": [
    {
     "name": "stdout",
     "output_type": "stream",
     "text": [
      "38.99999999999999\n"
     ]
    }
   ],
   "source": [
    "detA=np.linalg.det(A)\n",
    "print(detA)"
   ]
  },
  {
   "cell_type": "code",
   "execution_count": 20,
   "id": "e67f189e-c44b-443a-b950-2c939d512f52",
   "metadata": {},
   "outputs": [
    {
     "name": "stdout",
     "output_type": "stream",
     "text": [
      "[[-1.79487179e-01 -1.41025641e+00  1.33333333e+00]\n",
      " [ 1.53846154e-01 -7.69230769e-02 -5.84327908e-18]\n",
      " [ 2.56410256e-02  4.87179487e-01 -3.33333333e-01]]\n"
     ]
    }
   ],
   "source": [
    "invA=np.linalg.inv(A)\n",
    "print(invA)"
   ]
  },
  {
   "cell_type": "code",
   "execution_count": 21,
   "id": "a92b9cfe-0aba-497f-966a-8344d4ea08cc",
   "metadata": {},
   "outputs": [
    {
     "name": "stdout",
     "output_type": "stream",
     "text": [
      "[[1.00000000e+00 0.00000000e+00 0.00000000e+00]\n",
      " [2.77555756e-17 1.00000000e+00 0.00000000e+00]\n",
      " [5.20417043e-17 2.77555756e-16 1.00000000e+00]]\n"
     ]
    }
   ],
   "source": [
    "I=np.dot(A,invA)\n",
    "print(I)"
   ]
  }
 ],
 "metadata": {
  "kernelspec": {
   "display_name": "Python 3 (ipykernel)",
   "language": "python",
   "name": "python3"
  },
  "language_info": {
   "codemirror_mode": {
    "name": "ipython",
    "version": 3
   },
   "file_extension": ".py",
   "mimetype": "text/x-python",
   "name": "python",
   "nbconvert_exporter": "python",
   "pygments_lexer": "ipython3",
   "version": "3.11.7"
  }
 },
 "nbformat": 4,
 "nbformat_minor": 5
}
