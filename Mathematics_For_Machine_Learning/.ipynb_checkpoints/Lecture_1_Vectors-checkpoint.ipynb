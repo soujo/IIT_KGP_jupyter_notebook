{
 "cells": [
  {
   "cell_type": "code",
   "execution_count": 2,
   "id": "44bdcc73-b9dd-4e70-bff5-2414acfde121",
   "metadata": {},
   "outputs": [],
   "source": [
    "import numpy as np\n",
    "\n",
    "v1=np.array([1, 2, -1])\n",
    "v2=np.array([1,1,0])\n",
    "v3=np.array([0,1,-1])\n"
   ]
  },
  {
   "cell_type": "code",
   "execution_count": 7,
   "id": "43e10b1e-7b15-4156-a5c4-38b304d4f4cd",
   "metadata": {},
   "outputs": [
    {
     "name": "stdout",
     "output_type": "stream",
     "text": [
      "[ 2  4 -2]\n",
      "[0 0 0]\n"
     ]
    }
   ],
   "source": [
    "addedVector= v1+v2+v3\n",
    "SubtVector = v1-v2-v3\n",
    "print(addedVector) \n",
    "print(SubtVector)"
   ]
  },
  {
   "cell_type": "code",
   "execution_count": 11,
   "id": "591c180f-e667-440e-aaf6-86f2aa2ea547",
   "metadata": {},
   "outputs": [
    {
     "name": "stdout",
     "output_type": "stream",
     "text": [
      "4.898979485566356\n"
     ]
    }
   ],
   "source": [
    "mag =np.linalg.norm(addedVector) # We can calculate magnitude of a vector\n",
    "print(mag)"
   ]
  },
  {
   "cell_type": "code",
   "execution_count": 12,
   "id": "784c9a71-85bf-4db5-8710-59792ca1b49a",
   "metadata": {},
   "outputs": [
    {
     "name": "stdout",
     "output_type": "stream",
     "text": [
      "3\n"
     ]
    }
   ],
   "source": [
    "dotPdt = np.dot(v1,v2)\n",
    "print(dotPdt)"
   ]
  }
 ],
 "metadata": {
  "kernelspec": {
   "display_name": "Python 3 (ipykernel)",
   "language": "python",
   "name": "python3"
  },
  "language_info": {
   "codemirror_mode": {
    "name": "ipython",
    "version": 3
   },
   "file_extension": ".py",
   "mimetype": "text/x-python",
   "name": "python",
   "nbconvert_exporter": "python",
   "pygments_lexer": "ipython3",
   "version": "3.11.7"
  }
 },
 "nbformat": 4,
 "nbformat_minor": 5
}
