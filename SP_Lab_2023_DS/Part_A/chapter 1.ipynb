{
 "cells": [
  {
   "cell_type": "markdown",
   "id": "f54c9ae6",
   "metadata": {},
   "source": [
    "# CHAPTER-1 (INTRODUCTION)"
   ]
  },
  {
   "cell_type": "code",
   "execution_count": 1,
   "id": "0b916f3e",
   "metadata": {
    "scrolled": true
   },
   "outputs": [
    {
     "name": "stdout",
     "output_type": "stream",
     "text": [
      "Requirement already satisfied: numpy in c:\\users\\hp\\anaconda3\\lib\\site-packages (1.24.3)\n",
      "Note: you may need to restart the kernel to use updated packages.\n"
     ]
    }
   ],
   "source": [
    "pip install numpy"
   ]
  },
  {
   "cell_type": "code",
   "execution_count": 2,
   "id": "6ffa2765",
   "metadata": {},
   "outputs": [],
   "source": [
    "import numpy as np"
   ]
  },
  {
   "cell_type": "code",
   "execution_count": 3,
   "id": "69990281",
   "metadata": {},
   "outputs": [
    {
     "name": "stdout",
     "output_type": "stream",
     "text": [
      "Requirement already satisfied: pandas in c:\\users\\hp\\anaconda3\\lib\\site-packages (1.5.3)\n",
      "Requirement already satisfied: python-dateutil>=2.8.1 in c:\\users\\hp\\anaconda3\\lib\\site-packages (from pandas) (2.8.2)\n",
      "Requirement already satisfied: pytz>=2020.1 in c:\\users\\hp\\anaconda3\\lib\\site-packages (from pandas) (2022.7)\n",
      "Requirement already satisfied: numpy>=1.21.0 in c:\\users\\hp\\anaconda3\\lib\\site-packages (from pandas) (1.24.3)\n",
      "Requirement already satisfied: six>=1.5 in c:\\users\\hp\\anaconda3\\lib\\site-packages (from python-dateutil>=2.8.1->pandas) (1.16.0)\n",
      "Note: you may need to restart the kernel to use updated packages.\n"
     ]
    }
   ],
   "source": [
    "pip install pandas"
   ]
  },
  {
   "cell_type": "code",
   "execution_count": 4,
   "id": "5ec86cc1",
   "metadata": {},
   "outputs": [
    {
     "name": "stdout",
     "output_type": "stream",
     "text": [
      "Requirement already satisfied: matplotlib in c:\\users\\hp\\anaconda3\\lib\\site-packages (3.7.1)\n",
      "Requirement already satisfied: contourpy>=1.0.1 in c:\\users\\hp\\anaconda3\\lib\\site-packages (from matplotlib) (1.0.5)\n",
      "Requirement already satisfied: cycler>=0.10 in c:\\users\\hp\\anaconda3\\lib\\site-packages (from matplotlib) (0.11.0)\n",
      "Requirement already satisfied: fonttools>=4.22.0 in c:\\users\\hp\\anaconda3\\lib\\site-packages (from matplotlib) (4.25.0)\n",
      "Requirement already satisfied: kiwisolver>=1.0.1 in c:\\users\\hp\\anaconda3\\lib\\site-packages (from matplotlib) (1.4.4)\n",
      "Requirement already satisfied: numpy>=1.20 in c:\\users\\hp\\anaconda3\\lib\\site-packages (from matplotlib) (1.24.3)\n",
      "Requirement already satisfied: packaging>=20.0 in c:\\users\\hp\\anaconda3\\lib\\site-packages (from matplotlib) (23.0)\n",
      "Requirement already satisfied: pillow>=6.2.0 in c:\\users\\hp\\anaconda3\\lib\\site-packages (from matplotlib) (9.4.0)\n",
      "Requirement already satisfied: pyparsing>=2.3.1 in c:\\users\\hp\\anaconda3\\lib\\site-packages (from matplotlib) (3.0.9)\n",
      "Requirement already satisfied: python-dateutil>=2.7 in c:\\users\\hp\\anaconda3\\lib\\site-packages (from matplotlib) (2.8.2)\n",
      "Requirement already satisfied: six>=1.5 in c:\\users\\hp\\anaconda3\\lib\\site-packages (from python-dateutil>=2.7->matplotlib) (1.16.0)\n",
      "Note: you may need to restart the kernel to use updated packages.\n"
     ]
    }
   ],
   "source": [
    "pip install matplotlib"
   ]
  },
  {
   "cell_type": "code",
   "execution_count": 1,
   "id": "53382deb",
   "metadata": {},
   "outputs": [
    {
     "name": "stdout",
     "output_type": "stream",
     "text": [
      "Requirement already satisfied: Scipy in c:\\users\\hp\\anaconda3\\lib\\site-packages (1.10.1)\n",
      "Requirement already satisfied: numpy<1.27.0,>=1.19.5 in c:\\users\\hp\\anaconda3\\lib\\site-packages (from Scipy) (1.24.3)\n",
      "Note: you may need to restart the kernel to use updated packages.\n"
     ]
    }
   ],
   "source": [
    "pip install Scipy"
   ]
  },
  {
   "cell_type": "code",
   "execution_count": 2,
   "id": "3cb61ea0",
   "metadata": {},
   "outputs": [
    {
     "name": "stdout",
     "output_type": "stream",
     "text": [
      "x= [  5.  38.  11. 124.   8.   9.]\n",
      "The no. of bytes per items = 4\n"
     ]
    }
   ],
   "source": [
    "#1.1\n",
    "import numpy as np # recommended convention\n",
    "x = np.array([5,38,11,124,8,9],dtype=np.float32)\n",
    "print(\"x=\",x) #output:array([ 1., 1., 1.], dtype=float32)\n",
    "print(\"The no. of bytes per items =\",x.itemsize)#4"
   ]
  },
  {
   "cell_type": "code",
   "execution_count": 3,
   "id": "eb1dd52c",
   "metadata": {},
   "outputs": [
    {
     "data": {
      "text/plain": [
       "array([0.8413, 0.8413, 0.8413], dtype=float16)"
      ]
     },
     "execution_count": 3,
     "metadata": {},
     "output_type": "execute_result"
    }
   ],
   "source": [
    "#1.2\n",
    "np.sin(np.array([1,1,1],dtype=np.float16) )"
   ]
  },
  {
   "cell_type": "code",
   "execution_count": 4,
   "id": "ca326859",
   "metadata": {},
   "outputs": [
    {
     "name": "stdout",
     "output_type": "stream",
     "text": [
      "Shape= (3, 3)\n"
     ]
    }
   ],
   "source": [
    "#1.3\n",
    "import numpy as np\n",
    "x=np.array([[4,3,2],[1,2,3],[4,5,6] ])\n",
    "print(\"Shape=\",x.shape)"
   ]
  },
  {
   "cell_type": "code",
   "execution_count": 5,
   "id": "5d898f5c",
   "metadata": {},
   "outputs": [
    {
     "name": "stdout",
     "output_type": "stream",
     "text": [
      "y= [1 4]\n",
      "z= [2 5]\n",
      "m= [1 2 3]\n",
      "n= [4 5 6]\n"
     ]
    }
   ],
   "source": [
    "#1.4\n",
    "x=np.array([ [1,2,3],[4,5,6] ])\n",
    "print(\"y=\",x[:,0]) # 0th column\n",
    "#array([1, 4])\n",
    "print(\"z=\",x[:,1]) # 1st column\n",
    "#array([2, 5])\n",
    "print(\"m=\",x[0,:]) # 0th row\n",
    "#array([1, 2, 3])\n",
    "print(\"n=\",x[1,:]) # 1st row\n",
    "#array([4, 5, 6])"
   ]
  },
  {
   "cell_type": "code",
   "execution_count": 6,
   "id": "c6dde401",
   "metadata": {},
   "outputs": [
    {
     "name": "stdout",
     "output_type": "stream",
     "text": [
      "x= [[1 2 3]\n",
      " [4 5 6]]\n",
      "N= [[2 3]\n",
      " [5 6]]\n",
      "M= [[1 3]\n",
      " [4 6]]\n"
     ]
    }
   ],
   "source": [
    "#1.5\n",
    "x=np.array([ [1,2,3],[4,5,6]])\n",
    "print(\"x=\",x)\n",
    " #array([[1, 2, 3],\n",
    " #[4, 5, 6]])\n",
    "print(\"N=\",x[:,1:]) # all rows, 1st thru last column\n",
    " #array([[2, 3],\n",
    " #[5, 6]])\n",
    "print(\"M=\",x[:,::2]) # all rows, every other column\n",
    "#array([[1, 3],\n",
    " #[4, 6]])"
   ]
  },
  {
   "cell_type": "code",
   "execution_count": 7,
   "id": "ae0bf2cf",
   "metadata": {},
   "outputs": [
    {
     "name": "stdout",
     "output_type": "stream",
     "text": [
      "x= [[1. 1. 1.]\n",
      " [1. 1. 1.]\n",
      " [1. 1. 1.]]\n",
      "p= [[1. 1. 1. 1.]\n",
      " [1. 1. 1. 1.]\n",
      " [1. 1. 1. 1.]]\n",
      "y= [[1. 1. 1. 1.]\n",
      " [1. 1. 1. 1.]\n",
      " [1. 1. 1. 1.]]\n"
     ]
    }
   ],
   "source": [
    "#1.6\n",
    "x = np.ones((3,3))\n",
    "print(\"x=\",x)\n",
    "#x\n",
    "#array([[ 1., 1., 1.],\n",
    "# [ 1., 1., 1.],\n",
    "# [ 1., 1., 1.]])\n",
    "p=x[:,[0,1,2,2]] # notice duplicated last dimension\n",
    "print(\"p=\",p)\n",
    "#array([[ 1., 1., 1., 1.],\n",
    " #[ 1., 1., 1., 1.],\n",
    "#[ 1., 1., 1., 1.]])\n",
    "y=x[:,[0,1,2,2]]\n",
    "print(\"y=\",y)# same as above, but do assign it"
   ]
  },
  {
   "cell_type": "code",
   "execution_count": 8,
   "id": "3235987d",
   "metadata": {},
   "outputs": [
    {
     "name": "stdout",
     "output_type": "stream",
     "text": [
      "x= [[999.   1.   1.]\n",
      " [  1.   1.   1.]\n",
      " [  1.   1.   1.]]\n",
      "y= [[1. 1. 1. 1.]\n",
      " [1. 1. 1. 1.]\n",
      " [1. 1. 1. 1.]]\n"
     ]
    }
   ],
   "source": [
    "#1.7\n",
    "x[0,0]=999 # change element in x\n",
    "print(\"x=\",x) # changed\n",
    "#array([[ 999., 1., 1.],\n",
    "#[ 1., 1., 1.],\n",
    "#[ 1., 1., 1.]])\n",
    "print(\"y=\",y) # not changed!\n",
    "#array([[ 1., 1., 1., 1.],\n",
    "#[ 1., 1., 1., 1.],\n",
    "#[ 1., 1., 1., 1.]])"
   ]
  },
  {
   "cell_type": "code",
   "execution_count": 9,
   "id": "ace075f0",
   "metadata": {},
   "outputs": [
    {
     "name": "stdout",
     "output_type": "stream",
     "text": [
      "x= [[999.   1.   1.]\n",
      " [  1.   1.   1.]\n",
      " [  1.   1.   1.]]\n",
      "y= [[999.   1.]\n",
      " [  1.   1.]]\n"
     ]
    }
   ],
   "source": [
    "#1.8\n",
    "x = np.ones((3,3))\n",
    "y = x[:2,:2] # upper left piece\n",
    "x[0,0] = 999 # change value\n",
    "print(\"x=\",x)\n",
    "#array([[ 999., 1., 1.], # see the change?\n",
    "# [ 1., 1., 1.],\n",
    "# [ 1., 1., 1.]])\n",
    "print(\"y=\",y)\n",
    "#array([[ 999., 1.], # changed y also!\n",
    "#[ 1., 1.]])"
   ]
  },
  {
   "cell_type": "code",
   "execution_count": 10,
   "id": "98bfa4fc",
   "metadata": {},
   "outputs": [
    {
     "name": "stdout",
     "output_type": "stream",
     "text": [
      "x= [0 1 2 3 4]\n",
      "y= [0 1 2]\n",
      "z= [0 1 2]\n",
      "x= [999   1   2   3   4]\n",
      "unaffected y= [0 1 2]\n",
      "[999   1   2]\n"
     ]
    }
   ],
   "source": [
    "#1.9\n",
    "x = np.arange(5) # create array\n",
    "print(\"x=\",x)\n",
    "# array([0, 1, 2, 3, 4])\n",
    "y=x[[0,1,2]] # index by integer list\n",
    "print(\"y=\",y)\n",
    "#print(y)\n",
    "#array([0, 1, 2])\n",
    "z=x[:3] # slice\n",
    "print(\"z=\",z) # note y and z have same entries?\n",
    "#array([0, 1, 2])\n",
    "x[0]=999 # change element of x\n",
    "print(\"x=\",x)\n",
    "#array([999, 1, 2, 3, 4])\n",
    "print(\"unaffected y=\",y) # note y is unaffected,\n",
    "#array([0, 1, 2])\n",
    "print(z) # but z is (it’s a view).\n",
    "#array([999, 1, 2])"
   ]
  },
  {
   "cell_type": "code",
   "execution_count": 11,
   "id": "89944506",
   "metadata": {},
   "outputs": [
    {
     "name": "stdout",
     "output_type": "stream",
     "text": [
      "True\n",
      "True\n",
      "False\n"
     ]
    }
   ],
   "source": [
    "#1.10\n",
    "print(x.flags.owndata)\n",
    "#True\n",
    "print(y.flags.owndata)\n",
    "#True\n",
    "print(z.flags.owndata )# as a view, z does not own the data!\n",
    "#False"
   ]
  },
  {
   "cell_type": "code",
   "execution_count": 12,
   "id": "b1d5c921",
   "metadata": {},
   "outputs": [
    {
     "name": "stdout",
     "output_type": "stream",
     "text": [
      "y= [[1]\n",
      " [4]\n",
      " [7]]\n"
     ]
    }
   ],
   "source": [
    "#1.11\n",
    "import numpy as np\n",
    "A=np.matrix([[1,2,3],[4,5,6],[7,8,9]])\n",
    "x=np.matrix([[1],[0],[0]])\n",
    "y=A*x\n",
    "print(\"y=\",y)\n",
    "#matrix([[1],[4],[7]])"
   ]
  },
  {
   "cell_type": "code",
   "execution_count": 13,
   "id": "38059ab9",
   "metadata": {},
   "outputs": [
    {
     "name": "stdout",
     "output_type": "stream",
     "text": [
      "y= [[1. 1. 1.]\n",
      " [1. 1. 1.]\n",
      " [1. 1. 1.]]\n"
     ]
    },
    {
     "data": {
      "text/plain": [
       "matrix([[3.],\n",
       "        [3.],\n",
       "        [3.]])"
      ]
     },
     "execution_count": 13,
     "metadata": {},
     "output_type": "execute_result"
    }
   ],
   "source": [
    "#1.12\n",
    "import numpy as np\n",
    "A=np.ones((3,3))\n",
    "type(A)\n",
    "#type np.ndarray\n",
    "# array not matrix\n",
    "x=np.ones((3,1)) # array not matrix\n",
    "x\n",
    "y=A*x\n",
    "print(\"y=\",y)\n",
    "#array([[ 1., 1., 1.],\n",
    "#[ 1., 1., 1.],\n",
    "#[ 1., 1., 1.]])\n",
    "np.matrix(A)*x # row-column multiplication\n",
    "#matrix([[ 3.],\n",
    "#[ 3.],\n",
    "#[ 3.]])"
   ]
  },
  {
   "cell_type": "code",
   "execution_count": 14,
   "id": "6e64b02f",
   "metadata": {},
   "outputs": [
    {
     "name": "stdout",
     "output_type": "stream",
     "text": [
      "[[0 1]\n",
      " [0 1]]\n",
      "[[0 0]\n",
      " [1 1]]\n"
     ]
    }
   ],
   "source": [
    "#1.13\n",
    "X,Y=np.meshgrid(np.arange(2),np.arange(2))\n",
    "print(X)\n",
    "#array([[0, 1],\n",
    "#[0, 1]])\n",
    "print(Y)\n",
    "#array([[0, 0],\n",
    "#[1, 1]])"
   ]
  },
  {
   "cell_type": "code",
   "execution_count": 15,
   "id": "43830bbb",
   "metadata": {},
   "outputs": [
    {
     "name": "stdout",
     "output_type": "stream",
     "text": [
      "X+Y= [[0 1]\n",
      " [1 2]]\n"
     ]
    }
   ],
   "source": [
    "#1.14\n",
    "print(\"X+Y=\",X+Y)\n",
    "#array([[0, 1],\n",
    "#[1, 2]])"
   ]
  },
  {
   "cell_type": "code",
   "execution_count": 16,
   "id": "7d48ccb6",
   "metadata": {},
   "outputs": [
    {
     "name": "stdout",
     "output_type": "stream",
     "text": [
      "x= [0 1]\n",
      "y= [0 1]\n",
      "X+Y= [[0 1]\n",
      " [1 2]]\n"
     ]
    }
   ],
   "source": [
    "#1.15\n",
    "x = np.array([0,1])\n",
    "y = np.array([0,1])\n",
    "print(\"x=\",x)\n",
    "#array([0, 1])\n",
    "print(\"y=\",y)\n",
    "#array([0, 1])\n",
    "x + y[:,None] # add broadcast dimension\n",
    "#array([[0, 1],[1, 2]])\n",
    "print(\"X+Y=\",X+Y)\n",
    "#array([[0, 1],[1, 2]])"
   ]
  },
  {
   "cell_type": "code",
   "execution_count": 17,
   "id": "82504a5c",
   "metadata": {},
   "outputs": [
    {
     "name": "stdout",
     "output_type": "stream",
     "text": [
      "X= [0 1]\n",
      "Y= [0 1 2]\n",
      "w= [[0 1]\n",
      " [1 2]\n",
      " [2 3]]\n",
      "same as w/ meshgrid [[0 1]\n",
      " [1 2]\n",
      " [2 3]]\n"
     ]
    }
   ],
   "source": [
    "#1.16\n",
    "x = np.array([0,1])\n",
    "y = np.array([0,1,2])\n",
    "X,Y = np.meshgrid(x,y)\n",
    "print(\"X=\",x)\n",
    "#array([[0, 1], # duplicate by row\n",
    "#[0, 1],\n",
    "#[0, 1]])\n",
    "print(\"Y=\",y)\n",
    "#array([[0, 0], # duplicate by column\n",
    "#[1, 1],\n",
    "#[2, 2]])\n",
    "print(\"w=\",X+Y)\n",
    "#array([[0, 1],\n",
    "#[1, 2],\n",
    "#[2, 3]])\n",
    "print(\"same as w/ meshgrid\",x+y[:,None]) # same as w/ meshgrid\n",
    "#array([[0, 1],\n",
    "#[1, 2],\n",
    "#[2, 3]])"
   ]
  },
  {
   "cell_type": "code",
   "execution_count": 18,
   "id": "e42a4345",
   "metadata": {},
   "outputs": [
    {
     "data": {
      "text/plain": [
       "array([[[0, 1],\n",
       "        [1, 2],\n",
       "        [2, 3]],\n",
       "\n",
       "       [[1, 2],\n",
       "        [2, 3],\n",
       "        [3, 4]],\n",
       "\n",
       "       [[2, 3],\n",
       "        [3, 4],\n",
       "        [4, 5]],\n",
       "\n",
       "       [[3, 4],\n",
       "        [4, 5],\n",
       "        [5, 6]]])"
      ]
     },
     "execution_count": 18,
     "metadata": {},
     "output_type": "execute_result"
    }
   ],
   "source": [
    "#1.17\n",
    "x = np.array([0,1])\n",
    "y = np.array([0,1,2])\n",
    "z = np.array([0,1,2,3])\n",
    "x+y[:,None]+z[:,None,None]\n",
    " #array([[[0, 1],\n",
    "# [1, 2],\n",
    "# [2, 3]],\n",
    "# [[1, 2],\n",
    "# [2, 3],\n",
    "# [3, 4]],\n",
    "# [[2, 3],\n",
    "#[3, 4],\n",
    "# [4, 5]],\n",
    "#[3, 4],\n",
    "# [4, 5],\n",
    "# [5, 6]]])"
   ]
  },
  {
   "cell_type": "code",
   "execution_count": 19,
   "id": "e6eb8f95",
   "metadata": {},
   "outputs": [
    {
     "data": {
      "image/png": "[encoded data removed]",
      "text/plain": [
       "<Figure size 640x480 with 1 Axes>"
      ]
     },
     "metadata": {},
     "output_type": "display_data"
    }
   ],
   "source": [
    "#1.18\n",
    "import matplotlib.pyplot as plt\n",
    "plt.plot(range(20))\n",
    "#[matplotlib.lines.Line2D object at 0x00CB9770]\n",
    "plt.grid() # unnecessary in IPython (discussed later)"
   ]
  }
 ],
 "metadata": {
  "kernelspec": {
   "display_name": "Python 3 (ipykernel)",
   "language": "python",
   "name": "python3"
  },
  "language_info": {
   "codemirror_mode": {
    "name": "ipython",
    "version": 3
   },
   "file_extension": ".py",
   "mimetype": "text/x-python",
   "name": "python",
   "nbconvert_exporter": "python",
   "pygments_lexer": "ipython3",
   "version": "3.11.3"
  }
 },
 "nbformat": 4,
 "nbformat_minor": 5
}
