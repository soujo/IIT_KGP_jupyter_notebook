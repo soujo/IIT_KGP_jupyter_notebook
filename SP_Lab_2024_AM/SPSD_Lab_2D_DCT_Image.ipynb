{
 "cells": [
  {
   "cell_type": "code",
   "execution_count": 12,
   "id": "26d64540-0925-4d91-90c4-f5d579a4c059",
   "metadata": {},
   "outputs": [],
   "source": [
    "# from PIL import Image\n",
    "# from IPython.display import display"
   ]
  },
  {
   "cell_type": "code",
   "execution_count": 11,
   "id": "4e4fb15a-bcd0-481d-ad72-04c19630a5f6",
   "metadata": {},
   "outputs": [],
   "source": [
    "# img = Image.open(\"/home/soujanya/Downloads/standard_test_images/cameraman.tif\")\n",
    "\n",
    "# display(img)\n"
   ]
  },
  {
   "cell_type": "code",
   "execution_count": 15,
   "id": "88b6fcd0-99d0-47f1-8f80-b1d4437f4031",
   "metadata": {},
   "outputs": [],
   "source": [
    "from PIL import Image\n",
    "import numpy as np\n",
    "import os\n",
    "from scipy.fftpack import dct\n"
   ]
  },
  {
   "cell_type": "code",
   "execution_count": 16,
   "id": "e9aa47ed-746d-40b7-9a47-06e64eb1d66b",
   "metadata": {},
   "outputs": [
    {
     "name": "stdout",
     "output_type": "stream",
     "text": [
      "Total sections: 4096\n"
     ]
    }
   ],
   "source": [
    "img = Image.open(\"/home/soujanya/Downloads/standard_test_images/cameraman.tif\")\n",
    "# img = img.convert('L') \n",
    "img_array = np.array(img)\n",
    "\n",
    "section_size = 8\n",
    "num_sections = (img_array.shape[0] // section_size) * (img_array.shape[1] // section_size)\n",
    "\n",
    "\n",
    "output_dir = \"sections\"\n",
    "if not os.path.exists(output_dir):\n",
    "    os.makedirs(output_dir)\n",
    "\n",
    "\n",
    "section_number = 1\n",
    "sections = []\n",
    "for i in range(0, img_array.shape[0], section_size):\n",
    "    for j in range(0, img_array.shape[1], section_size):\n",
    "        section = img_array[i:i+section_size, j:j+section_size]\n",
    "        sections.append(section)\n",
    "        \n",
    "        Image.fromarray(section).save(os.path.join(output_dir, f\"section_{section_number}.tiff\"))\n",
    "        section_number += 1\n",
    "\n",
    "print(f\"Total sections: {len(sections)}\")\n"
   ]
  },
  {
   "cell_type": "code",
   "execution_count": 17,
   "id": "d16e171f-b3c4-4c83-8136-d26b4234e64d",
   "metadata": {},
   "outputs": [
    {
     "name": "stdout",
     "output_type": "stream",
     "text": [
      "2D DCT Result:\n",
      "[[ 1.25350000e+03  3.83789086e+00 -1.35299025e-01  1.81652678e+00\n",
      "   1.50000000e+00 -9.63898083e-01  3.26640741e-01  1.08015032e+00]\n",
      " [ 1.53190444e+00 -1.32047656e-01 -2.66514580e+00 -3.19030566e+00\n",
      "  -3.77895612e-01  2.35892824e-02  7.31385956e-01  2.59699003e-01]\n",
      " [ 8.04995032e-01  1.50336222e-01 -1.33210678e+00 -1.77185036e+00\n",
      "  -2.30969883e-01  1.57352629e-01  4.48223305e-01  2.24994056e-01]\n",
      " [ 1.20865080e-01  2.69903675e+00 -6.32347630e+00 -3.93026677e+00\n",
      "   4.79459254e-01 -6.81642713e-01  9.50647430e-01  2.29910624e-01]\n",
      " [-2.50000000e-01 -7.97860262e-01  3.61626180e+00  2.17045852e+00\n",
      "  -2.50000000e-01  7.24366525e-01 -4.15512481e-01 -5.31221522e-02]\n",
      " [-3.30990732e-02 -3.20900882e-01  1.38393312e+00  9.52240763e-01\n",
      "  -4.25793145e-02  3.39276510e-01 -1.84193639e-01 -1.41953510e-01]\n",
      " [ 1.29014844e+00 -5.78457560e-01 -8.01776695e-01 -6.40728862e-01\n",
      "   9.56708581e-02  1.27448895e-01  8.21067812e-02 -3.42533054e-02]\n",
      " [-8.73249601e-01  3.93582479e-01  1.47783776e-01  3.17400975e-01\n",
      "  -2.23770501e-02 -9.93153986e-02 -3.08420764e-02 -2.76962087e-01]]\n"
     ]
    }
   ],
   "source": [
    "section_img = Image.open(\"/home/soujanya/Drive-F/IIT-KGP/Jupyter_Notebook/SP_Lab_2024_AM/sections/section_1.tiff\")\n",
    "img_array = np.array(section_img)\n",
    "dct_array = dct(dct(img_array.T, norm='ortho').T, norm='ortho')\n",
    "\n",
    "print(\"2D DCT Result:\")\n",
    "print(dct_array)"
   ]
  }
 ],
 "metadata": {
  "kernelspec": {
   "display_name": "Python 3 (ipykernel)",
   "language": "python",
   "name": "python3"
  },
  "language_info": {
   "codemirror_mode": {
    "name": "ipython",
    "version": 3
   },
   "file_extension": ".py",
   "mimetype": "text/x-python",
   "name": "python",
   "nbconvert_exporter": "python",
   "pygments_lexer": "ipython3",
   "version": "3.11.7"
  }
 },
 "nbformat": 4,
 "nbformat_minor": 5
}
