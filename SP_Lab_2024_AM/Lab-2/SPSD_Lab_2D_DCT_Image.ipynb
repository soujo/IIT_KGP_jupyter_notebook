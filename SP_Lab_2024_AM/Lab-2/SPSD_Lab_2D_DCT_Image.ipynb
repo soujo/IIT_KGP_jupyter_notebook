{
 "cells": [
  {
   "cell_type": "code",
   "execution_count": 1,
   "id": "4e4fb15a-bcd0-481d-ad72-04c19630a5f6",
   "metadata": {},
   "outputs": [],
   "source": [
    "# img = Image.open(\"/home/soujanya/Downloads/standard_test_images/cameraman.tif\")\n",
    "\n",
    "# display(img)\n"
   ]
  },
  {
   "cell_type": "code",
   "execution_count": 3,
   "id": "88b6fcd0-99d0-47f1-8f80-b1d4437f4031",
   "metadata": {},
   "outputs": [],
   "source": [
    "from PIL import Image\n",
    "import numpy as np\n",
    "import os\n",
    "from scipy.fftpack import idct \n",
    "from scipy.fftpack import dct \n",
    "import matplotlib.pyplot as plt"
   ]
  },
  {
   "cell_type": "code",
   "execution_count": 4,
   "id": "e9aa47ed-746d-40b7-9a47-06e64eb1d66b",
   "metadata": {},
   "outputs": [
    {
     "name": "stdout",
     "output_type": "stream",
     "text": [
      "Total sections: 4096\n"
     ]
    }
   ],
   "source": [
    "img = Image.open(\"/home/soujanya/Downloads/standard_test_images/cameraman.tif\")\n",
    "img = img.convert('L') \n",
    "img_array = np.array(img)\n",
    "\n",
    "section_size = 8\n",
    "num_sections = (img_array.shape[0] // section_size) * (img_array.shape[1] // section_size)\n",
    "\n",
    "\n",
    "output_dir = \"sections\"\n",
    "if not os.path.exists(output_dir):\n",
    "    os.makedirs(output_dir)\n",
    "\n",
    "\n",
    "section_number = 1\n",
    "sections = []\n",
    "for i in range(0, img_array.shape[0], section_size):\n",
    "    for j in range(0, img_array.shape[1], section_size):\n",
    "        section = img_array[i:i+section_size, j:j+section_size]\n",
    "        sections.append(section)\n",
    "        \n",
    "        Image.fromarray(section).save(os.path.join(output_dir, f\"section_{section_number}.tiff\"))\n",
    "        section_number += 1\n",
    "\n",
    "print(f\"Total sections: {len(sections)}\")\n"
   ]
  },
  {
   "cell_type": "code",
   "execution_count": 5,
   "id": "d16e171f-b3c4-4c83-8136-d26b4234e64d",
   "metadata": {},
   "outputs": [
    {
     "data": {
      "image/png": "[encoded data removed]",
      "text/plain": [
       "<Figure size 640x480 with 1 Axes>"
      ]
     },
     "metadata": {},
     "output_type": "display_data"
    },
    {
     "name": "stdout",
     "output_type": "stream",
     "text": [
      "2D DCT Result:\n",
      "[[ 1.25350000e+03  3.83789086e+00 -1.35299025e-01  1.81652678e+00\n",
      "   1.50000000e+00 -9.63898083e-01  3.26640741e-01  1.08015032e+00]\n",
      " [ 1.53190444e+00 -1.32047656e-01 -2.66514580e+00 -3.19030566e+00\n",
      "  -3.77895612e-01  2.35892824e-02  7.31385956e-01  2.59699003e-01]\n",
      " [ 8.04995032e-01  1.50336222e-01 -1.33210678e+00 -1.77185036e+00\n",
      "  -2.30969883e-01  1.57352629e-01  4.48223305e-01  2.24994056e-01]\n",
      " [ 1.20865080e-01  2.69903675e+00 -6.32347630e+00 -3.93026677e+00\n",
      "   4.79459254e-01 -6.81642713e-01  9.50647430e-01  2.29910624e-01]\n",
      " [-2.50000000e-01 -7.97860262e-01  3.61626180e+00  2.17045852e+00\n",
      "  -2.50000000e-01  7.24366525e-01 -4.15512481e-01 -5.31221522e-02]\n",
      " [-3.30990732e-02 -3.20900882e-01  1.38393312e+00  9.52240763e-01\n",
      "  -4.25793145e-02  3.39276510e-01 -1.84193639e-01 -1.41953510e-01]\n",
      " [ 1.29014844e+00 -5.78457560e-01 -8.01776695e-01 -6.40728862e-01\n",
      "   9.56708581e-02  1.27448895e-01  8.21067812e-02 -3.42533054e-02]\n",
      " [-8.73249601e-01  3.93582479e-01  1.47783776e-01  3.17400975e-01\n",
      "  -2.23770501e-02 -9.93153986e-02 -3.08420764e-02 -2.76962087e-01]]\n"
     ]
    }
   ],
   "source": [
    "section_img = Image.open(\"/home/soujanya/Drive-F/IIT-KGP/Jupyter_Notebook/SP_Lab_2024_AM/sections/section_1.tiff\")\n",
    "plt.imshow(section_img, cmap='gray')\n",
    "plt.title('Section Image')\n",
    "plt.axis('off')  # Hide axes\n",
    "plt.show()\n",
    "\n",
    "img_array = np.array(section_img)\n",
    "# img_array = np.array(img)\n",
    "dct_array = dct(dct(img_array.T, norm='ortho').T, norm='ortho')\n",
    "\n",
    "print(\"2D DCT Result:\")\n",
    "print(dct_array)"
   ]
  },
  {
   "cell_type": "code",
   "execution_count": 68,
   "id": "60cca1b7-59f0-41b5-985f-2c958d986efc",
   "metadata": {},
   "outputs": [],
   "source": [
    "# section_img = Image.open(\"/home/soujanya/Drive-F/IIT-KGP/Jupyter_Notebook/SP_Lab_2024_AM/sections/section_1.tiff\")\n",
    "# img_array = np.array(section_img)\n",
    "# dct_array = dct(dct(img_array.T, norm='ortho').T, norm='ortho')"
   ]
  },
  {
   "cell_type": "code",
   "execution_count": 9,
   "id": "dbbe0bca-2a40-4cfb-9a06-3469cc61a7a2",
   "metadata": {},
   "outputs": [
    {
     "name": "stdin",
     "output_type": "stream",
     "text": [
      "Enter an integer between 0 and 63:  23\n"
     ]
    },
    {
     "name": "stdout",
     "output_type": "stream",
     "text": [
      "DCT Array\n",
      " [[ 1.25350000e+03  3.83789086e+00 -1.35299025e-01  1.81652678e+00\n",
      "   1.50000000e+00 -9.63898083e-01  3.26640741e-01  1.08015032e+00]\n",
      " [ 1.53190444e+00 -1.32047656e-01 -2.66514580e+00 -3.19030566e+00\n",
      "  -3.77895612e-01  2.35892824e-02  7.31385956e-01  2.59699003e-01]\n",
      " [ 8.04995032e-01  1.50336222e-01 -1.33210678e+00 -1.77185036e+00\n",
      "  -2.30969883e-01  1.57352629e-01  4.48223305e-01  2.24994056e-01]\n",
      " [ 1.20865080e-01  2.69903675e+00 -6.32347630e+00 -3.93026677e+00\n",
      "   4.79459254e-01 -6.81642713e-01  9.50647430e-01  2.29910624e-01]\n",
      " [-2.50000000e-01 -7.97860262e-01  3.61626180e+00  2.17045852e+00\n",
      "  -2.50000000e-01  7.24366525e-01 -4.15512481e-01 -5.31221522e-02]\n",
      " [-3.30990732e-02 -3.20900882e-01  1.38393312e+00  9.52240763e-01\n",
      "  -4.25793145e-02  3.39276510e-01 -1.84193639e-01 -1.41953510e-01]\n",
      " [ 1.29014844e+00 -5.78457560e-01 -8.01776695e-01 -6.40728862e-01\n",
      "   9.56708581e-02  1.27448895e-01  8.21067812e-02 -3.42533054e-02]\n",
      " [-8.73249601e-01  3.93582479e-01  1.47783776e-01  3.17400975e-01\n",
      "  -2.23770501e-02 -9.93153986e-02 -3.08420764e-02 -2.76962087e-01]]\n",
      "\n",
      "\n",
      "Modified Array\n",
      " [[ 1.25350000e+03  3.83789086e+00 -1.35299025e-01  1.81652678e+00\n",
      "   1.50000000e+00 -9.63898083e-01  0.00000000e+00  0.00000000e+00]\n",
      " [ 1.53190444e+00 -1.32047656e-01 -2.66514580e+00 -3.19030566e+00\n",
      "  -3.77895612e-01  0.00000000e+00  0.00000000e+00  0.00000000e+00]\n",
      " [ 8.04995032e-01  1.50336222e-01 -1.33210678e+00 -1.77185036e+00\n",
      "   0.00000000e+00  0.00000000e+00  0.00000000e+00  0.00000000e+00]\n",
      " [ 1.20865080e-01  2.69903675e+00 -6.32347630e+00  0.00000000e+00\n",
      "   0.00000000e+00  0.00000000e+00  0.00000000e+00  0.00000000e+00]\n",
      " [-2.50000000e-01 -7.97860262e-01  3.61626180e+00  0.00000000e+00\n",
      "   0.00000000e+00  0.00000000e+00  0.00000000e+00  0.00000000e+00]\n",
      " [-3.30990732e-02 -3.20900882e-01  0.00000000e+00  0.00000000e+00\n",
      "   0.00000000e+00  0.00000000e+00  0.00000000e+00  0.00000000e+00]\n",
      " [ 1.29014844e+00  0.00000000e+00  0.00000000e+00  0.00000000e+00\n",
      "   0.00000000e+00  0.00000000e+00  0.00000000e+00  0.00000000e+00]\n",
      " [ 0.00000000e+00  0.00000000e+00  0.00000000e+00  0.00000000e+00\n",
      "   0.00000000e+00  0.00000000e+00  0.00000000e+00  0.00000000e+00]]\n"
     ]
    },
    {
     "data": {
      "image/png": "[encoded data removed]",
      "text/plain": [
       "<Figure size 1000x500 with 2 Axes>"
      ]
     },
     "metadata": {},
     "output_type": "display_data"
    }
   ],
   "source": [
    "def get_zigzag_indices(n):\n",
    "    indices = np.zeros((n, n), dtype=int)\n",
    "    index = 0\n",
    "    for diag in range(2 * n - 1):\n",
    "        if diag % 2 == 0:\n",
    "            # Even diagonal - traverse up-right\n",
    "            r = min(diag, n - 1)\n",
    "            c = diag - r\n",
    "            while r >= 0 and c < n:\n",
    "                indices[r, c] = index\n",
    "                index += 1\n",
    "                r -= 1\n",
    "                c += 1\n",
    "        else:\n",
    "            # Odd diagonal - traverse down-left\n",
    "            c = min(diag, n - 1)\n",
    "            r = diag - c\n",
    "            while c >= 0 and r < n:\n",
    "                indices[r, c] = index\n",
    "                index += 1\n",
    "                r += 1\n",
    "                c -= 1\n",
    "    return indices\n",
    "\n",
    "def create_modified_array(original_array, input_index):\n",
    "    n = original_array.shape[0]\n",
    "    zigzag_indices = get_zigzag_indices(n)\n",
    "    max_index = min(input_index, n*n - 1)\n",
    "   \n",
    "    new_array = np.zeros_like(original_array)\n",
    "    for i in range(n):\n",
    "        for j in range(n):\n",
    "            if zigzag_indices[i, j] <= max_index:\n",
    "                new_array[i, j] = original_array[i, j]\n",
    "            else:\n",
    "                new_array[i, j] = 0\n",
    "               \n",
    "    return new_array\n",
    "\n",
    "def get_user_input():\n",
    "    while True:\n",
    "        try:\n",
    "            # Ask user for an integer input between 0 and 63\n",
    "            user_input = int(input(\"Enter an integer between 0 and 63: \"))\n",
    "            if 0 <= user_input <= 63:\n",
    "                return user_input\n",
    "            else:\n",
    "                print(\"Invalid input. Please enter a number between 0 and 63.\")\n",
    "        except ValueError:\n",
    "            print(\"Invalid input. Please enter a valid integer between 0 and 63.\")\n",
    "\n",
    "# Initialize the original array\n",
    "# original_array = np.arange(64).reshape(8, 8)\n",
    "original_array = dct_array  # Assuming dct_array is defined earlier in your script\n",
    "\n",
    "# Get user input\n",
    "user_input = get_user_input()\n",
    "\n",
    "# Create the modified array\n",
    "modified_array = create_modified_array(original_array, user_input)\n",
    "\n",
    "# Print the actual DCT array\n",
    "print(\"DCT Array\\n\",dct_array)\n",
    "print(\"\\n\")\n",
    "# Print the modified array\n",
    "print(\"Modified Array\\n\",modified_array)\n",
    "\n",
    "\n",
    "\n",
    "\n",
    "#######################################################################################################\n",
    "\n",
    "# Function to perform 2D IDCT\n",
    "def idct2(a):\n",
    "    return idct(idct(a.T, norm='ortho').T, norm='ortho')\n",
    "\n",
    "# dct_coefficients=modified_array\n",
    "\n",
    "# Perform the IDCT\n",
    "reconstructed_image = idct2(modified_array)\n",
    "\n",
    "# Ensure the reconstructed image is in the valid range (0-255) and of type uint8\n",
    "reconstructed_image = np.clip(reconstructed_image, 0, 255)\n",
    "reconstructed_image = reconstructed_image.astype(np.uint8)\n",
    "\n",
    "# print(reconstructed_image)\n",
    "\n",
    "# Create a figure with 1 row and 2 columns\n",
    "fig, ax = plt.subplots(1, 2, figsize=(10, 5))\n",
    "\n",
    "# Display the original image in the first subplot\n",
    "ax[0].imshow(section_img, cmap='gray')\n",
    "# ax[0].imshow(img, cmap='gray')\n",
    "ax[0].set_title('Original Image')\n",
    "ax[0].axis('off')  # Hide axes\n",
    "\n",
    "# Display the reconstructed image in the second subplot\n",
    "ax[1].imshow(reconstructed_image, cmap='gray')\n",
    "ax[1].set_title('Reconstructed Image')\n",
    "ax[1].axis('off')  # Hide axes\n",
    "\n",
    "# Show the figure\n",
    "plt.show()\n"
   ]
  }
 ],
 "metadata": {
  "kernelspec": {
   "display_name": "Python 3 (ipykernel)",
   "language": "python",
   "name": "python3"
  },
  "language_info": {
   "codemirror_mode": {
    "name": "ipython",
    "version": 3
   },
   "file_extension": ".py",
   "mimetype": "text/x-python",
   "name": "python",
   "nbconvert_exporter": "python",
   "pygments_lexer": "ipython3",
   "version": "3.11.7"
  }
 },
 "nbformat": 4,
 "nbformat_minor": 5
}
